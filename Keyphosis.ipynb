{
 "cells": [
  {
   "cell_type": "code",
   "execution_count": 1,
   "id": "55d0c71d",
   "metadata": {},
   "outputs": [],
   "source": [
    "import pandas as pd\n",
    "import numpy as np\n",
    "import seaborn as sns\n",
    "import matplotlib.pyplot as plt\n",
    "import math as m "
   ]
  },
  {
   "cell_type": "code",
   "execution_count": 2,
   "id": "5f5b1086",
   "metadata": {},
   "outputs": [
    {
     "data": {
      "text/html": [
       "<div>\n",
       "<style scoped>\n",
       "    .dataframe tbody tr th:only-of-type {\n",
       "        vertical-align: middle;\n",
       "    }\n",
       "\n",
       "    .dataframe tbody tr th {\n",
       "        vertical-align: top;\n",
       "    }\n",
       "\n",
       "    .dataframe thead th {\n",
       "        text-align: right;\n",
       "    }\n",
       "</style>\n",
       "<table border=\"1\" class=\"dataframe\">\n",
       "  <thead>\n",
       "    <tr style=\"text-align: right;\">\n",
       "      <th></th>\n",
       "      <th>Kyphosis</th>\n",
       "      <th>Age</th>\n",
       "      <th>Number</th>\n",
       "      <th>Start</th>\n",
       "    </tr>\n",
       "  </thead>\n",
       "  <tbody>\n",
       "    <tr>\n",
       "      <th>0</th>\n",
       "      <td>absent</td>\n",
       "      <td>71</td>\n",
       "      <td>3</td>\n",
       "      <td>5</td>\n",
       "    </tr>\n",
       "    <tr>\n",
       "      <th>1</th>\n",
       "      <td>absent</td>\n",
       "      <td>158</td>\n",
       "      <td>3</td>\n",
       "      <td>14</td>\n",
       "    </tr>\n",
       "    <tr>\n",
       "      <th>2</th>\n",
       "      <td>present</td>\n",
       "      <td>128</td>\n",
       "      <td>4</td>\n",
       "      <td>5</td>\n",
       "    </tr>\n",
       "    <tr>\n",
       "      <th>3</th>\n",
       "      <td>absent</td>\n",
       "      <td>2</td>\n",
       "      <td>5</td>\n",
       "      <td>1</td>\n",
       "    </tr>\n",
       "    <tr>\n",
       "      <th>4</th>\n",
       "      <td>absent</td>\n",
       "      <td>1</td>\n",
       "      <td>4</td>\n",
       "      <td>15</td>\n",
       "    </tr>\n",
       "  </tbody>\n",
       "</table>\n",
       "</div>"
      ],
      "text/plain": [
       "  Kyphosis  Age  Number  Start\n",
       "0   absent   71       3      5\n",
       "1   absent  158       3     14\n",
       "2  present  128       4      5\n",
       "3   absent    2       5      1\n",
       "4   absent    1       4     15"
      ]
     },
     "execution_count": 2,
     "metadata": {},
     "output_type": "execute_result"
    }
   ],
   "source": [
    "df = pd.read_csv('E:/ML and DL/ML/Data_csv/kyphosis.csv')\n",
    "df.head()"
   ]
  },
  {
   "cell_type": "code",
   "execution_count": 3,
   "id": "75ab3b38",
   "metadata": {},
   "outputs": [
    {
     "data": {
      "text/plain": [
       "Kyphosis    object\n",
       "Age          int64\n",
       "Number       int64\n",
       "Start        int64\n",
       "dtype: object"
      ]
     },
     "execution_count": 3,
     "metadata": {},
     "output_type": "execute_result"
    }
   ],
   "source": [
    "df.dtypes"
   ]
  },
  {
   "cell_type": "code",
   "execution_count": 4,
   "id": "a6b35958",
   "metadata": {},
   "outputs": [
    {
     "data": {
      "text/html": [
       "<div>\n",
       "<style scoped>\n",
       "    .dataframe tbody tr th:only-of-type {\n",
       "        vertical-align: middle;\n",
       "    }\n",
       "\n",
       "    .dataframe tbody tr th {\n",
       "        vertical-align: top;\n",
       "    }\n",
       "\n",
       "    .dataframe thead th {\n",
       "        text-align: right;\n",
       "    }\n",
       "</style>\n",
       "<table border=\"1\" class=\"dataframe\">\n",
       "  <thead>\n",
       "    <tr style=\"text-align: right;\">\n",
       "      <th></th>\n",
       "      <th>count</th>\n",
       "      <th>unique</th>\n",
       "      <th>top</th>\n",
       "      <th>freq</th>\n",
       "      <th>mean</th>\n",
       "      <th>std</th>\n",
       "      <th>min</th>\n",
       "      <th>25%</th>\n",
       "      <th>50%</th>\n",
       "      <th>75%</th>\n",
       "      <th>max</th>\n",
       "    </tr>\n",
       "  </thead>\n",
       "  <tbody>\n",
       "    <tr>\n",
       "      <th>Kyphosis</th>\n",
       "      <td>81</td>\n",
       "      <td>2</td>\n",
       "      <td>absent</td>\n",
       "      <td>64</td>\n",
       "      <td>NaN</td>\n",
       "      <td>NaN</td>\n",
       "      <td>NaN</td>\n",
       "      <td>NaN</td>\n",
       "      <td>NaN</td>\n",
       "      <td>NaN</td>\n",
       "      <td>NaN</td>\n",
       "    </tr>\n",
       "    <tr>\n",
       "      <th>Age</th>\n",
       "      <td>81.0</td>\n",
       "      <td>NaN</td>\n",
       "      <td>NaN</td>\n",
       "      <td>NaN</td>\n",
       "      <td>83.654321</td>\n",
       "      <td>58.104251</td>\n",
       "      <td>1.0</td>\n",
       "      <td>26.0</td>\n",
       "      <td>87.0</td>\n",
       "      <td>130.0</td>\n",
       "      <td>206.0</td>\n",
       "    </tr>\n",
       "    <tr>\n",
       "      <th>Number</th>\n",
       "      <td>81.0</td>\n",
       "      <td>NaN</td>\n",
       "      <td>NaN</td>\n",
       "      <td>NaN</td>\n",
       "      <td>4.049383</td>\n",
       "      <td>1.619423</td>\n",
       "      <td>2.0</td>\n",
       "      <td>3.0</td>\n",
       "      <td>4.0</td>\n",
       "      <td>5.0</td>\n",
       "      <td>10.0</td>\n",
       "    </tr>\n",
       "    <tr>\n",
       "      <th>Start</th>\n",
       "      <td>81.0</td>\n",
       "      <td>NaN</td>\n",
       "      <td>NaN</td>\n",
       "      <td>NaN</td>\n",
       "      <td>11.493827</td>\n",
       "      <td>4.883962</td>\n",
       "      <td>1.0</td>\n",
       "      <td>9.0</td>\n",
       "      <td>13.0</td>\n",
       "      <td>16.0</td>\n",
       "      <td>18.0</td>\n",
       "    </tr>\n",
       "  </tbody>\n",
       "</table>\n",
       "</div>"
      ],
      "text/plain": [
       "         count unique     top freq       mean        std  min   25%   50%  \\\n",
       "Kyphosis    81      2  absent   64        NaN        NaN  NaN   NaN   NaN   \n",
       "Age       81.0    NaN     NaN  NaN  83.654321  58.104251  1.0  26.0  87.0   \n",
       "Number    81.0    NaN     NaN  NaN   4.049383   1.619423  2.0   3.0   4.0   \n",
       "Start     81.0    NaN     NaN  NaN  11.493827   4.883962  1.0   9.0  13.0   \n",
       "\n",
       "            75%    max  \n",
       "Kyphosis    NaN    NaN  \n",
       "Age       130.0  206.0  \n",
       "Number      5.0   10.0  \n",
       "Start      16.0   18.0  "
      ]
     },
     "execution_count": 4,
     "metadata": {},
     "output_type": "execute_result"
    }
   ],
   "source": [
    "df.describe(include = 'all').T"
   ]
  },
  {
   "cell_type": "code",
   "execution_count": 5,
   "id": "1d50a07d",
   "metadata": {},
   "outputs": [
    {
     "data": {
      "text/plain": [
       "<AxesSubplot:>"
      ]
     },
     "execution_count": 5,
     "metadata": {},
     "output_type": "execute_result"
    },
    {
     "data": {
      "image/png": "[encoded data removed]",
      "text/plain": [
       "<Figure size 432x288 with 2 Axes>"
      ]
     },
     "metadata": {
      "needs_background": "light"
     },
     "output_type": "display_data"
    }
   ],
   "source": [
    "sns.heatmap(df.isnull(),cmap = 'viridis')"
   ]
  },
  {
   "cell_type": "code",
   "execution_count": 6,
   "id": "904354d6",
   "metadata": {},
   "outputs": [
    {
     "data": {
      "text/plain": [
       "Kyphosis    0\n",
       "Age         0\n",
       "Number      0\n",
       "Start       0\n",
       "dtype: int64"
      ]
     },
     "execution_count": 6,
     "metadata": {},
     "output_type": "execute_result"
    }
   ],
   "source": [
    "df.isna().sum()"
   ]
  },
  {
   "cell_type": "code",
   "execution_count": 7,
   "id": "3b71fc3c",
   "metadata": {},
   "outputs": [
    {
     "data": {
      "text/plain": [
       "0"
      ]
     },
     "execution_count": 7,
     "metadata": {},
     "output_type": "execute_result"
    }
   ],
   "source": [
    "df.duplicated().sum()"
   ]
  },
  {
   "cell_type": "code",
   "execution_count": 8,
   "id": "a29da019",
   "metadata": {},
   "outputs": [
    {
     "data": {
      "text/html": [
       "<div>\n",
       "<style scoped>\n",
       "    .dataframe tbody tr th:only-of-type {\n",
       "        vertical-align: middle;\n",
       "    }\n",
       "\n",
       "    .dataframe tbody tr th {\n",
       "        vertical-align: top;\n",
       "    }\n",
       "\n",
       "    .dataframe thead th {\n",
       "        text-align: right;\n",
       "    }\n",
       "</style>\n",
       "<table border=\"1\" class=\"dataframe\">\n",
       "  <thead>\n",
       "    <tr style=\"text-align: right;\">\n",
       "      <th></th>\n",
       "      <th>Kyphosis</th>\n",
       "      <th>Age</th>\n",
       "      <th>Number</th>\n",
       "      <th>Start</th>\n",
       "    </tr>\n",
       "  </thead>\n",
       "  <tbody>\n",
       "    <tr>\n",
       "      <th>0</th>\n",
       "      <td>absent</td>\n",
       "      <td>71</td>\n",
       "      <td>3</td>\n",
       "      <td>5</td>\n",
       "    </tr>\n",
       "    <tr>\n",
       "      <th>1</th>\n",
       "      <td>absent</td>\n",
       "      <td>158</td>\n",
       "      <td>3</td>\n",
       "      <td>14</td>\n",
       "    </tr>\n",
       "    <tr>\n",
       "      <th>2</th>\n",
       "      <td>present</td>\n",
       "      <td>128</td>\n",
       "      <td>4</td>\n",
       "      <td>5</td>\n",
       "    </tr>\n",
       "    <tr>\n",
       "      <th>3</th>\n",
       "      <td>absent</td>\n",
       "      <td>2</td>\n",
       "      <td>5</td>\n",
       "      <td>1</td>\n",
       "    </tr>\n",
       "    <tr>\n",
       "      <th>4</th>\n",
       "      <td>absent</td>\n",
       "      <td>1</td>\n",
       "      <td>4</td>\n",
       "      <td>15</td>\n",
       "    </tr>\n",
       "    <tr>\n",
       "      <th>...</th>\n",
       "      <td>...</td>\n",
       "      <td>...</td>\n",
       "      <td>...</td>\n",
       "      <td>...</td>\n",
       "    </tr>\n",
       "    <tr>\n",
       "      <th>76</th>\n",
       "      <td>present</td>\n",
       "      <td>157</td>\n",
       "      <td>3</td>\n",
       "      <td>13</td>\n",
       "    </tr>\n",
       "    <tr>\n",
       "      <th>77</th>\n",
       "      <td>absent</td>\n",
       "      <td>26</td>\n",
       "      <td>7</td>\n",
       "      <td>13</td>\n",
       "    </tr>\n",
       "    <tr>\n",
       "      <th>78</th>\n",
       "      <td>absent</td>\n",
       "      <td>120</td>\n",
       "      <td>2</td>\n",
       "      <td>13</td>\n",
       "    </tr>\n",
       "    <tr>\n",
       "      <th>79</th>\n",
       "      <td>present</td>\n",
       "      <td>42</td>\n",
       "      <td>7</td>\n",
       "      <td>6</td>\n",
       "    </tr>\n",
       "    <tr>\n",
       "      <th>80</th>\n",
       "      <td>absent</td>\n",
       "      <td>36</td>\n",
       "      <td>4</td>\n",
       "      <td>13</td>\n",
       "    </tr>\n",
       "  </tbody>\n",
       "</table>\n",
       "<p>81 rows × 4 columns</p>\n",
       "</div>"
      ],
      "text/plain": [
       "   Kyphosis  Age  Number  Start\n",
       "0    absent   71       3      5\n",
       "1    absent  158       3     14\n",
       "2   present  128       4      5\n",
       "3    absent    2       5      1\n",
       "4    absent    1       4     15\n",
       "..      ...  ...     ...    ...\n",
       "76  present  157       3     13\n",
       "77   absent   26       7     13\n",
       "78   absent  120       2     13\n",
       "79  present   42       7      6\n",
       "80   absent   36       4     13\n",
       "\n",
       "[81 rows x 4 columns]"
      ]
     },
     "execution_count": 8,
     "metadata": {},
     "output_type": "execute_result"
    }
   ],
   "source": [
    "df"
   ]
  },
  {
   "cell_type": "code",
   "execution_count": 9,
   "id": "aaf485b3",
   "metadata": {},
   "outputs": [
    {
     "name": "stdout",
     "output_type": "stream",
     "text": [
      "number of outliers in Age :  0\n",
      "number of outliers in Number :  2\n",
      "number of outliers in Start :  0\n"
     ]
    }
   ],
   "source": [
    "from datasist.structdata import detect_outliers\n",
    "\n",
    "feature_df = df[['Age','Number','Start']]\n",
    "\n",
    "for col in feature_df:\n",
    "    outliers = detect_outliers(df,0,[col])\n",
    "    print(f'number of outliers in {col} : ',len(outliers))"
   ]
  },
  {
   "cell_type": "code",
   "execution_count": 10,
   "id": "e76e6f47",
   "metadata": {},
   "outputs": [
    {
     "name": "stderr",
     "output_type": "stream",
     "text": [
      "C:\\Users\\DELL\\anaconda3\\lib\\site-packages\\pandas\\core\\indexing.py:1732: SettingWithCopyWarning: \n",
      "A value is trying to be set on a copy of a slice from a DataFrame\n",
      "\n",
      "See the caveats in the documentation: https://pandas.pydata.org/pandas-docs/stable/user_guide/indexing.html#returning-a-view-versus-a-copy\n",
      "  self._setitem_single_block(indexer, value, name)\n"
     ]
    }
   ],
   "source": [
    "for col in feature_df:\n",
    "    outliers = detect_outliers(df,0,[col])\n",
    "    col_median = df[col].median()\n",
    "    df[col].iloc[outliers] = col_median"
   ]
  },
  {
   "cell_type": "code",
   "execution_count": 11,
   "id": "4d39fee0",
   "metadata": {},
   "outputs": [
    {
     "name": "stdout",
     "output_type": "stream",
     "text": [
      "number of outliers in Age :  0\n",
      "number of outliers in Number :  0\n",
      "number of outliers in Start :  0\n"
     ]
    }
   ],
   "source": [
    "from datasist.structdata import detect_outliers\n",
    "\n",
    "feature_df = df[['Age','Number','Start']]\n",
    "\n",
    "for col in feature_df:\n",
    "    outliers = detect_outliers(df,0,[col])\n",
    "    print(f'number of outliers in {col} : ',len(outliers))"
   ]
  },
  {
   "cell_type": "code",
   "execution_count": 12,
   "id": "06998c37",
   "metadata": {},
   "outputs": [
    {
     "data": {
      "text/plain": [
       "absent     64\n",
       "present    17\n",
       "Name: Kyphosis, dtype: int64"
      ]
     },
     "execution_count": 12,
     "metadata": {},
     "output_type": "execute_result"
    }
   ],
   "source": [
    "df['Kyphosis'].value_counts()"
   ]
  },
  {
   "cell_type": "code",
   "execution_count": 13,
   "id": "e4d0411a",
   "metadata": {},
   "outputs": [
    {
     "data": {
      "text/plain": [
       "absent     79.012346\n",
       "present    20.987654\n",
       "Name: Kyphosis, dtype: float64"
      ]
     },
     "execution_count": 13,
     "metadata": {},
     "output_type": "execute_result"
    }
   ],
   "source": [
    "df['Kyphosis'].value_counts() * 100 / len(df)"
   ]
  },
  {
   "cell_type": "code",
   "execution_count": 14,
   "id": "0104ae23",
   "metadata": {},
   "outputs": [
    {
     "data": {
      "text/plain": [
       "<AxesSubplot:>"
      ]
     },
     "execution_count": 14,
     "metadata": {},
     "output_type": "execute_result"
    },
    {
     "data": {
      "image/png": "[encoded data removed]",
      "text/plain": [
       "<Figure size 432x288 with 1 Axes>"
      ]
     },
     "metadata": {
      "needs_background": "light"
     },
     "output_type": "display_data"
    }
   ],
   "source": [
    "df['Kyphosis'].value_counts().plot(kind = 'bar')"
   ]
  },
  {
   "cell_type": "code",
   "execution_count": 15,
   "id": "aeabe89a",
   "metadata": {},
   "outputs": [
    {
     "data": {
      "text/html": [
       "<div>\n",
       "<style scoped>\n",
       "    .dataframe tbody tr th:only-of-type {\n",
       "        vertical-align: middle;\n",
       "    }\n",
       "\n",
       "    .dataframe tbody tr th {\n",
       "        vertical-align: top;\n",
       "    }\n",
       "\n",
       "    .dataframe thead th {\n",
       "        text-align: right;\n",
       "    }\n",
       "</style>\n",
       "<table border=\"1\" class=\"dataframe\">\n",
       "  <thead>\n",
       "    <tr style=\"text-align: right;\">\n",
       "      <th></th>\n",
       "      <th>Kyphosis</th>\n",
       "      <th>Age</th>\n",
       "      <th>Number</th>\n",
       "      <th>Start</th>\n",
       "    </tr>\n",
       "  </thead>\n",
       "  <tbody>\n",
       "    <tr>\n",
       "      <th>0</th>\n",
       "      <td>absent</td>\n",
       "      <td>71</td>\n",
       "      <td>3</td>\n",
       "      <td>5</td>\n",
       "    </tr>\n",
       "    <tr>\n",
       "      <th>1</th>\n",
       "      <td>absent</td>\n",
       "      <td>158</td>\n",
       "      <td>3</td>\n",
       "      <td>14</td>\n",
       "    </tr>\n",
       "    <tr>\n",
       "      <th>2</th>\n",
       "      <td>present</td>\n",
       "      <td>128</td>\n",
       "      <td>4</td>\n",
       "      <td>5</td>\n",
       "    </tr>\n",
       "    <tr>\n",
       "      <th>3</th>\n",
       "      <td>absent</td>\n",
       "      <td>2</td>\n",
       "      <td>5</td>\n",
       "      <td>1</td>\n",
       "    </tr>\n",
       "    <tr>\n",
       "      <th>4</th>\n",
       "      <td>absent</td>\n",
       "      <td>1</td>\n",
       "      <td>4</td>\n",
       "      <td>15</td>\n",
       "    </tr>\n",
       "  </tbody>\n",
       "</table>\n",
       "</div>"
      ],
      "text/plain": [
       "  Kyphosis  Age  Number  Start\n",
       "0   absent   71       3      5\n",
       "1   absent  158       3     14\n",
       "2  present  128       4      5\n",
       "3   absent    2       5      1\n",
       "4   absent    1       4     15"
      ]
     },
     "execution_count": 15,
     "metadata": {},
     "output_type": "execute_result"
    }
   ],
   "source": [
    "df.head()"
   ]
  },
  {
   "cell_type": "code",
   "execution_count": 16,
   "id": "0f01673a",
   "metadata": {},
   "outputs": [
    {
     "data": {
      "text/html": [
       "<div>\n",
       "<style scoped>\n",
       "    .dataframe tbody tr th:only-of-type {\n",
       "        vertical-align: middle;\n",
       "    }\n",
       "\n",
       "    .dataframe tbody tr th {\n",
       "        vertical-align: top;\n",
       "    }\n",
       "\n",
       "    .dataframe thead th {\n",
       "        text-align: right;\n",
       "    }\n",
       "</style>\n",
       "<table border=\"1\" class=\"dataframe\">\n",
       "  <thead>\n",
       "    <tr style=\"text-align: right;\">\n",
       "      <th></th>\n",
       "      <th>Kyphosis</th>\n",
       "      <th>Age</th>\n",
       "      <th>Number</th>\n",
       "      <th>Start</th>\n",
       "    </tr>\n",
       "  </thead>\n",
       "  <tbody>\n",
       "    <tr>\n",
       "      <th>0</th>\n",
       "      <td>absent</td>\n",
       "      <td>-0.219143</td>\n",
       "      <td>-0.674962</td>\n",
       "      <td>-1.337907</td>\n",
       "    </tr>\n",
       "    <tr>\n",
       "      <th>1</th>\n",
       "      <td>absent</td>\n",
       "      <td>1.287494</td>\n",
       "      <td>-0.674962</td>\n",
       "      <td>0.516341</td>\n",
       "    </tr>\n",
       "    <tr>\n",
       "      <th>2</th>\n",
       "      <td>present</td>\n",
       "      <td>0.767964</td>\n",
       "      <td>0.063848</td>\n",
       "      <td>-1.337907</td>\n",
       "    </tr>\n",
       "    <tr>\n",
       "      <th>3</th>\n",
       "      <td>absent</td>\n",
       "      <td>-1.414063</td>\n",
       "      <td>0.802658</td>\n",
       "      <td>-2.162017</td>\n",
       "    </tr>\n",
       "    <tr>\n",
       "      <th>4</th>\n",
       "      <td>absent</td>\n",
       "      <td>-1.431381</td>\n",
       "      <td>0.063848</td>\n",
       "      <td>0.722368</td>\n",
       "    </tr>\n",
       "  </tbody>\n",
       "</table>\n",
       "</div>"
      ],
      "text/plain": [
       "  Kyphosis       Age    Number     Start\n",
       "0   absent -0.219143 -0.674962 -1.337907\n",
       "1   absent  1.287494 -0.674962  0.516341\n",
       "2  present  0.767964  0.063848 -1.337907\n",
       "3   absent -1.414063  0.802658 -2.162017\n",
       "4   absent -1.431381  0.063848  0.722368"
      ]
     },
     "execution_count": 16,
     "metadata": {},
     "output_type": "execute_result"
    }
   ],
   "source": [
    "from sklearn.preprocessing import StandardScaler\n",
    "scaler = StandardScaler()\n",
    "columns = ['Age','Number','Start']\n",
    "df[columns] = scaler.fit_transform(df[columns])\n",
    "df.head()"
   ]
  },
  {
   "cell_type": "code",
   "execution_count": 17,
   "id": "d3383330",
   "metadata": {},
   "outputs": [
    {
     "data": {
      "text/plain": [
       "absent     64\n",
       "present    17\n",
       "Name: Kyphosis, dtype: int64"
      ]
     },
     "execution_count": 17,
     "metadata": {},
     "output_type": "execute_result"
    }
   ],
   "source": [
    "df['Kyphosis'].value_counts()"
   ]
  },
  {
   "cell_type": "code",
   "execution_count": 18,
   "id": "fdee9811",
   "metadata": {},
   "outputs": [],
   "source": [
    "df['Kyphosis'] = df['Kyphosis'].replace({'absent':0,'present':1})"
   ]
  },
  {
   "cell_type": "code",
   "execution_count": 19,
   "id": "d264927e",
   "metadata": {},
   "outputs": [],
   "source": [
    "feature_df = df[['Age','Number','Start']]\n",
    "x = np.asarray(feature_df)\n",
    "y = np.asarray(df['Kyphosis'])"
   ]
  },
  {
   "cell_type": "code",
   "execution_count": 20,
   "id": "6559cfba",
   "metadata": {},
   "outputs": [],
   "source": [
    "from sklearn.model_selection import train_test_split\n",
    "x_train,x_test,y_train,y_test = train_test_split(x,y,test_size = 0.2)"
   ]
  },
  {
   "cell_type": "code",
   "execution_count": 21,
   "id": "e4896c76",
   "metadata": {},
   "outputs": [],
   "source": [
    "from imblearn.over_sampling import SMOTE\n",
    "sm = SMOTE(random_state = 27)\n",
    "x_train,y_train = sm.fit_resample(x_train,y_train)"
   ]
  },
  {
   "cell_type": "code",
   "execution_count": 22,
   "id": "a182556c",
   "metadata": {},
   "outputs": [
    {
     "data": {
      "text/plain": [
       "0.8235294117647058"
      ]
     },
     "execution_count": 22,
     "metadata": {},
     "output_type": "execute_result"
    }
   ],
   "source": [
    "from sklearn.tree import DecisionTreeClassifier\n",
    "from sklearn.metrics import accuracy_score\n",
    "dt = DecisionTreeClassifier(random_state=0, max_depth=2)\n",
    "dt.fit(x_train, y_train)\n",
    "y_pred = dt.predict(x_test)\n",
    "accuracy_score(y_test,y_pred)"
   ]
  },
  {
   "cell_type": "code",
   "execution_count": 23,
   "id": "3fac7c77",
   "metadata": {},
   "outputs": [
    {
     "name": "stdout",
     "output_type": "stream",
     "text": [
      "[[12  2]\n",
      " [ 1  2]]\n",
      "              precision    recall  f1-score   support\n",
      "\n",
      "           0       0.92      0.86      0.89        14\n",
      "           1       0.50      0.67      0.57         3\n",
      "\n",
      "    accuracy                           0.82        17\n",
      "   macro avg       0.71      0.76      0.73        17\n",
      "weighted avg       0.85      0.82      0.83        17\n",
      "\n"
     ]
    }
   ],
   "source": [
    "from sklearn.metrics import confusion_matrix,classification_report\n",
    "\n",
    "\n",
    "print(confusion_matrix(y_test,y_pred))\n",
    "print(classification_report(y_test,y_pred))"
   ]
  },
  {
   "cell_type": "code",
   "execution_count": 24,
   "id": "ec8f5467",
   "metadata": {},
   "outputs": [
    {
     "name": "stdout",
     "output_type": "stream",
     "text": [
      "Best score (accuracy): 0.89\n",
      "Mean precision: 0.8444444444444444\n",
      "Mean recall: 0.8775000000000001\n",
      "Best parametes: {'metric': 'manhattan', 'n_neighbors': 1, 'weights': 'uniform'}\n"
     ]
    },
    {
     "data": {
      "text/html": [
       "<style>#sk-container-id-1 {color: black;background-color: white;}#sk-container-id-1 pre{padding: 0;}#sk-container-id-1 div.sk-toggleable {background-color: white;}#sk-container-id-1 label.sk-toggleable__label {cursor: pointer;display: block;width: 100%;margin-bottom: 0;padding: 0.3em;box-sizing: border-box;text-align: center;}#sk-container-id-1 label.sk-toggleable__label-arrow:before {content: \"▸\";float: left;margin-right: 0.25em;color: #696969;}#sk-container-id-1 label.sk-toggleable__label-arrow:hover:before {color: black;}#sk-container-id-1 div.sk-estimator:hover label.sk-toggleable__label-arrow:before {color: black;}#sk-container-id-1 div.sk-toggleable__content {max-height: 0;max-width: 0;overflow: hidden;text-align: left;background-color: #f0f8ff;}#sk-container-id-1 div.sk-toggleable__content pre {margin: 0.2em;color: black;border-radius: 0.25em;background-color: #f0f8ff;}#sk-container-id-1 input.sk-toggleable__control:checked~div.sk-toggleable__content {max-height: 200px;max-width: 100%;overflow: auto;}#sk-container-id-1 input.sk-toggleable__control:checked~label.sk-toggleable__label-arrow:before {content: \"▾\";}#sk-container-id-1 div.sk-estimator input.sk-toggleable__control:checked~label.sk-toggleable__label {background-color: #d4ebff;}#sk-container-id-1 div.sk-label input.sk-toggleable__control:checked~label.sk-toggleable__label {background-color: #d4ebff;}#sk-container-id-1 input.sk-hidden--visually {border: 0;clip: rect(1px 1px 1px 1px);clip: rect(1px, 1px, 1px, 1px);height: 1px;margin: -1px;overflow: hidden;padding: 0;position: absolute;width: 1px;}#sk-container-id-1 div.sk-estimator {font-family: monospace;background-color: #f0f8ff;border: 1px dotted black;border-radius: 0.25em;box-sizing: border-box;margin-bottom: 0.5em;}#sk-container-id-1 div.sk-estimator:hover {background-color: #d4ebff;}#sk-container-id-1 div.sk-parallel-item::after {content: \"\";width: 100%;border-bottom: 1px solid gray;flex-grow: 1;}#sk-container-id-1 div.sk-label:hover label.sk-toggleable__label {background-color: #d4ebff;}#sk-container-id-1 div.sk-serial::before {content: \"\";position: absolute;border-left: 1px solid gray;box-sizing: border-box;top: 0;bottom: 0;left: 50%;z-index: 0;}#sk-container-id-1 div.sk-serial {display: flex;flex-direction: column;align-items: center;background-color: white;padding-right: 0.2em;padding-left: 0.2em;position: relative;}#sk-container-id-1 div.sk-item {position: relative;z-index: 1;}#sk-container-id-1 div.sk-parallel {display: flex;align-items: stretch;justify-content: center;background-color: white;position: relative;}#sk-container-id-1 div.sk-item::before, #sk-container-id-1 div.sk-parallel-item::before {content: \"\";position: absolute;border-left: 1px solid gray;box-sizing: border-box;top: 0;bottom: 0;left: 50%;z-index: -1;}#sk-container-id-1 div.sk-parallel-item {display: flex;flex-direction: column;z-index: 1;position: relative;background-color: white;}#sk-container-id-1 div.sk-parallel-item:first-child::after {align-self: flex-end;width: 50%;}#sk-container-id-1 div.sk-parallel-item:last-child::after {align-self: flex-start;width: 50%;}#sk-container-id-1 div.sk-parallel-item:only-child::after {width: 0;}#sk-container-id-1 div.sk-dashed-wrapped {border: 1px dashed gray;margin: 0 0.4em 0.5em 0.4em;box-sizing: border-box;padding-bottom: 0.4em;background-color: white;}#sk-container-id-1 div.sk-label label {font-family: monospace;font-weight: bold;display: inline-block;line-height: 1.2em;}#sk-container-id-1 div.sk-label-container {text-align: center;}#sk-container-id-1 div.sk-container {/* jupyter's `normalize.less` sets `[hidden] { display: none; }` but bootstrap.min.css set `[hidden] { display: none !important; }` so we also need the `!important` here to be able to override the default hidden behavior on the sphinx rendered scikit-learn.org. See: https://github.com/scikit-learn/scikit-learn/issues/21755 */display: inline-block !important;position: relative;}#sk-container-id-1 div.sk-text-repr-fallback {display: none;}</style><div id=\"sk-container-id-1\" class=\"sk-top-container\"><div class=\"sk-text-repr-fallback\"><pre>KNeighborsClassifier(metric=&#x27;manhattan&#x27;, n_jobs=-1, n_neighbors=1)</pre><b>In a Jupyter environment, please rerun this cell to show the HTML representation or trust the notebook. <br />On GitHub, the HTML representation is unable to render, please try loading this page with nbviewer.org.</b></div><div class=\"sk-container\" hidden><div class=\"sk-item\"><div class=\"sk-estimator sk-toggleable\"><input class=\"sk-toggleable__control sk-hidden--visually\" id=\"sk-estimator-id-1\" type=\"checkbox\" checked><label for=\"sk-estimator-id-1\" class=\"sk-toggleable__label sk-toggleable__label-arrow\">KNeighborsClassifier</label><div class=\"sk-toggleable__content\"><pre>KNeighborsClassifier(metric=&#x27;manhattan&#x27;, n_jobs=-1, n_neighbors=1)</pre></div></div></div></div></div>"
      ],
      "text/plain": [
       "KNeighborsClassifier(metric='manhattan', n_jobs=-1, n_neighbors=1)"
      ]
     },
     "execution_count": 24,
     "metadata": {},
     "output_type": "execute_result"
    }
   ],
   "source": [
    "from sklearn.model_selection import GridSearchCV\n",
    "from sklearn.model_selection import KFold\n",
    "parameters = {'n_neighbors': [1, 2, 5, 10], 'weights': ['uniform', 'distance'], 'metric': ['manhattan', 'euclidean', 'chebyshev']}\n",
    "def grid_search(estimator, parameters, X, y):\n",
    "    \n",
    "    scoring = ['accuracy', 'precision', 'recall']\n",
    "    kf = KFold(5)\n",
    "    \n",
    "    clf = GridSearchCV(estimator, parameters, cv=kf, scoring=scoring, refit=\"accuracy\", n_jobs=-1)\n",
    "    clf.fit(X, y)\n",
    "    \n",
    "    i = clf.best_index_\n",
    "    best_precision = clf.cv_results_['mean_test_precision'][i]\n",
    "    best_recall = clf.cv_results_['mean_test_recall'][i]\n",
    "    \n",
    "    print('Best score (accuracy): {}'.format(clf.best_score_))\n",
    "    print('Mean precision: {}'.format(best_precision))\n",
    "    print('Mean recall: {}'.format(best_recall))\n",
    "    print('Best parametes: {}'.format(clf.best_params_))\n",
    "    \n",
    "    return clf.best_estimator_\n",
    "from sklearn.neighbors import KNeighborsClassifier\n",
    "grid_search(KNeighborsClassifier(n_jobs=-1),parameters,x_train,y_train)"
   ]
  },
  {
   "cell_type": "code",
   "execution_count": 25,
   "id": "2a7520ca",
   "metadata": {},
   "outputs": [],
   "source": [
    "knn = KNeighborsClassifier(metric = 'manhattan', n_neighbors = 1, weights = 'uniform')\n",
    "knn.fit(x_train,y_train)\n",
    "y_pred = knn.predict(x_test)"
   ]
  },
  {
   "cell_type": "code",
   "execution_count": 26,
   "id": "61d6348c",
   "metadata": {},
   "outputs": [
    {
     "name": "stdout",
     "output_type": "stream",
     "text": [
      "[[10  4]\n",
      " [ 2  1]]\n",
      "              precision    recall  f1-score   support\n",
      "\n",
      "           0       0.83      0.71      0.77        14\n",
      "           1       0.20      0.33      0.25         3\n",
      "\n",
      "    accuracy                           0.65        17\n",
      "   macro avg       0.52      0.52      0.51        17\n",
      "weighted avg       0.72      0.65      0.68        17\n",
      "\n"
     ]
    }
   ],
   "source": [
    "from sklearn.metrics import confusion_matrix,classification_report\n",
    "print(confusion_matrix(y_test,y_pred))\n",
    "print(classification_report(y_test,y_pred))"
   ]
  },
  {
   "cell_type": "code",
   "execution_count": 27,
   "id": "f34c3424",
   "metadata": {},
   "outputs": [
    {
     "name": "stdout",
     "output_type": "stream",
     "text": [
      "where k is = 1\n",
      "accuracy is 0.6470588235294118\n",
      "------------------------------\n",
      "where k is = 2\n",
      "accuracy is 0.6470588235294118\n",
      "------------------------------\n",
      "where k is = 3\n",
      "accuracy is 0.6470588235294118\n",
      "------------------------------\n",
      "where k is = 4\n",
      "accuracy is 0.6470588235294118\n",
      "------------------------------\n",
      "where k is = 5\n",
      "accuracy is 0.7647058823529411\n",
      "------------------------------\n",
      "where k is = 6\n",
      "accuracy is 0.6470588235294118\n",
      "------------------------------\n",
      "where k is = 7\n",
      "accuracy is 0.7647058823529411\n",
      "------------------------------\n",
      "where k is = 8\n",
      "accuracy is 0.6470588235294118\n",
      "------------------------------\n",
      "where k is = 9\n",
      "accuracy is 0.7058823529411765\n",
      "------------------------------\n",
      "where k is = 10\n",
      "accuracy is 0.6470588235294118\n",
      "------------------------------\n"
     ]
    }
   ],
   "source": [
    "from sklearn.neighbors import KNeighborsClassifier\n",
    "from sklearn.metrics import accuracy_score\n",
    "k = [1,2,3,4,5,6,7,8,9,int(m.sqrt(len(x_train)))]\n",
    "for item in k :\n",
    "    print(f'where k is = {item}')\n",
    "    model = KNeighborsClassifier(n_neighbors = item)\n",
    "    model.fit(x_train,y_train)\n",
    "    y_pred = model.predict(x_test)\n",
    "    print('accuracy is {}'.format(accuracy_score(y_test,y_pred)))\n",
    "    print('-'*30)"
   ]
  },
  {
   "cell_type": "code",
   "execution_count": 28,
   "id": "dfc7b445",
   "metadata": {},
   "outputs": [],
   "source": [
    "from sklearn.linear_model import LogisticRegression\n",
    "log_model = LogisticRegression()\n",
    "log_model.fit(x_train,y_train)\n",
    "y_pred = log_model.predict(x_test)"
   ]
  },
  {
   "cell_type": "code",
   "execution_count": 29,
   "id": "21df5609",
   "metadata": {},
   "outputs": [
    {
     "name": "stdout",
     "output_type": "stream",
     "text": [
      "[[9 5]\n",
      " [2 1]]\n",
      "              precision    recall  f1-score   support\n",
      "\n",
      "           0       0.82      0.64      0.72        14\n",
      "           1       0.17      0.33      0.22         3\n",
      "\n",
      "    accuracy                           0.59        17\n",
      "   macro avg       0.49      0.49      0.47        17\n",
      "weighted avg       0.70      0.59      0.63        17\n",
      "\n"
     ]
    }
   ],
   "source": [
    "from sklearn.metrics import confusion_matrix,classification_report\n",
    "print(confusion_matrix(y_test,y_pred))\n",
    "print(classification_report(y_test,y_pred))"
   ]
  },
  {
   "cell_type": "code",
   "execution_count": 30,
   "id": "de8ad029",
   "metadata": {},
   "outputs": [
    {
     "name": "stdout",
     "output_type": "stream",
     "text": [
      "Best score: 0.91, Best params: {'max_depth': 7, 'min_samples_leaf': 1, 'min_samples_split': 2, 'n_estimators': 100, 'random_state': 42}\n"
     ]
    }
   ],
   "source": [
    "from sklearn.ensemble import RandomForestClassifier\n",
    "rf = RandomForestClassifier()\n",
    "\n",
    "rf_params = {\n",
    "    'n_estimators': [100, 200, 300, 500],\n",
    "    'max_depth': [3, 5, 7, 9],\n",
    "    'min_samples_split': [2, 3, 4, 5],\n",
    "    'min_samples_leaf': [1, 2, 3, 5],\n",
    "    'random_state': [42]\n",
    "}\n",
    "\n",
    "rf_search = GridSearchCV(rf, param_grid=rf_params, cv=5, scoring='accuracy', n_jobs=-1)\n",
    "rf_search.fit(x_train, y_train)\n",
    "best_mse = rf_search.best_score_\n",
    "best_rmse = best_mse\n",
    "\n",
    "print('Best score: {}, Best params: {}'.format(round(best_rmse, 4), rf_search.best_params_))"
   ]
  },
  {
   "cell_type": "code",
   "execution_count": 32,
   "id": "73fcd305",
   "metadata": {},
   "outputs": [],
   "source": [
    "rf = RandomForestClassifier(max_depth = 7, min_samples_leaf = 1, min_samples_split = 2, n_estimators = 100, random_state = 42)\n",
    "rf.fit(x_train,y_train)\n",
    "y_pred = rf.predict(x_test)"
   ]
  },
  {
   "cell_type": "code",
   "execution_count": 33,
   "id": "ae3430eb",
   "metadata": {},
   "outputs": [
    {
     "name": "stdout",
     "output_type": "stream",
     "text": [
      "[[10  4]\n",
      " [ 1  2]]\n",
      "              precision    recall  f1-score   support\n",
      "\n",
      "           0       0.91      0.71      0.80        14\n",
      "           1       0.33      0.67      0.44         3\n",
      "\n",
      "    accuracy                           0.71        17\n",
      "   macro avg       0.62      0.69      0.62        17\n",
      "weighted avg       0.81      0.71      0.74        17\n",
      "\n"
     ]
    }
   ],
   "source": [
    "from sklearn.metrics import confusion_matrix,classification_report\n",
    "print(confusion_matrix(y_test,y_pred))\n",
    "print(classification_report(y_test,y_pred))"
   ]
  },
  {
   "cell_type": "code",
   "execution_count": 34,
   "id": "a6ab30ec",
   "metadata": {},
   "outputs": [
    {
     "data": {
      "text/plain": [
       "{'mean_fit_time': array([0.00116796, 0.00081859, 0.00059576, 0.00069928, 0.00105286,\n",
       "        0.00081992, 0.00101829, 0.00039988, 0.00079975, 0.00099993,\n",
       "        0.00079985, 0.00019922]),\n",
       " 'std_fit_time': array([7.70223172e-04, 4.10797733e-04, 4.86713889e-04, 3.99768682e-04,\n",
       "        1.06574012e-04, 4.12366999e-04, 7.88002800e-05, 4.89749563e-04,\n",
       "        3.99878569e-04, 2.32626170e-06, 3.99923453e-04, 3.98445129e-04]),\n",
       " 'mean_score_time': array([0.00018926, 0.00039744, 0.00040722, 0.00019965, 0.00060239,\n",
       "        0.00019851, 0.00044727, 0.00040002, 0.00020051, 0.        ,\n",
       "        0.00019999, 0.        ]),\n",
       " 'std_score_time': array([0.00023262, 0.00048677, 0.00049886, 0.0003993 , 0.00080111,\n",
       "        0.00039701, 0.00055344, 0.00048993, 0.00040102, 0.        ,\n",
       "        0.00039997, 0.        ]),\n",
       " 'param_C': masked_array(data=[1, 1, 1, 1, 5, 5, 5, 5, 7, 7, 7, 7],\n",
       "              mask=[False, False, False, False, False, False, False, False,\n",
       "                    False, False, False, False],\n",
       "        fill_value='?',\n",
       "             dtype=object),\n",
       " 'param_kernel': masked_array(data=['linear', 'poly', 'rbf', 'sigmoid', 'linear', 'poly',\n",
       "                    'rbf', 'sigmoid', 'linear', 'poly', 'rbf', 'sigmoid'],\n",
       "              mask=[False, False, False, False, False, False, False, False,\n",
       "                    False, False, False, False],\n",
       "        fill_value='?',\n",
       "             dtype=object),\n",
       " 'params': [{'C': 1, 'kernel': 'linear'},\n",
       "  {'C': 1, 'kernel': 'poly'},\n",
       "  {'C': 1, 'kernel': 'rbf'},\n",
       "  {'C': 1, 'kernel': 'sigmoid'},\n",
       "  {'C': 5, 'kernel': 'linear'},\n",
       "  {'C': 5, 'kernel': 'poly'},\n",
       "  {'C': 5, 'kernel': 'rbf'},\n",
       "  {'C': 5, 'kernel': 'sigmoid'},\n",
       "  {'C': 7, 'kernel': 'linear'},\n",
       "  {'C': 7, 'kernel': 'poly'},\n",
       "  {'C': 7, 'kernel': 'rbf'},\n",
       "  {'C': 7, 'kernel': 'sigmoid'}],\n",
       " 'split0_test_score': array([0.75, 0.75, 0.85, 0.65, 0.75, 0.85, 0.95, 0.65, 0.75, 0.8 , 0.95,\n",
       "        0.65]),\n",
       " 'split1_test_score': array([0.8 , 0.8 , 0.85, 0.75, 0.8 , 0.9 , 0.9 , 0.7 , 0.8 , 0.9 , 0.9 ,\n",
       "        0.7 ]),\n",
       " 'split2_test_score': array([0.95, 0.85, 0.9 , 0.85, 0.9 , 0.85, 0.9 , 0.85, 0.9 , 0.9 , 0.9 ,\n",
       "        0.85]),\n",
       " 'split3_test_score': array([0.85, 0.85, 0.9 , 0.65, 0.8 , 0.9 , 1.  , 0.65, 0.85, 0.9 , 1.  ,\n",
       "        0.65]),\n",
       " 'split4_test_score': array([0.75, 0.75, 0.9 , 0.75, 0.75, 0.75, 0.85, 0.75, 0.75, 0.75, 0.85,\n",
       "        0.75]),\n",
       " 'mean_test_score': array([0.82, 0.8 , 0.88, 0.73, 0.8 , 0.85, 0.92, 0.72, 0.81, 0.85, 0.92,\n",
       "        0.72]),\n",
       " 'std_test_score': array([0.07483315, 0.04472136, 0.0244949 , 0.07483315, 0.05477226,\n",
       "        0.05477226, 0.0509902 , 0.07483315, 0.05830952, 0.06324555,\n",
       "        0.0509902 , 0.07483315]),\n",
       " 'rank_test_score': array([ 6,  8,  3, 10,  8,  4,  1, 11,  7,  4,  1, 11])}"
      ]
     },
     "execution_count": 34,
     "metadata": {},
     "output_type": "execute_result"
    }
   ],
   "source": [
    "from sklearn.svm import SVC\n",
    "clf = SVC()\n",
    "params = {'C':[1,5,7] ,'kernel':['linear','poly','rbf','sigmoid']}\n",
    "grid_search = GridSearchCV(clf,param_grid = params,cv = 5)\n",
    "grid_search.fit(x_train,y_train)\n",
    "grid_search.best_params_\n",
    "grid_search.cv_results_"
   ]
  },
  {
   "cell_type": "code",
   "execution_count": 36,
   "id": "63eb766f",
   "metadata": {},
   "outputs": [],
   "source": [
    "clf = SVC(C = 5, kernel = 'poly')"
   ]
  },
  {
   "cell_type": "code",
   "execution_count": 37,
   "id": "39afe873",
   "metadata": {},
   "outputs": [],
   "source": [
    "clf.fit(x_train,y_train)\n",
    "y_pred = clf.predict(x_test)"
   ]
  },
  {
   "cell_type": "code",
   "execution_count": 38,
   "id": "d17a1bd6",
   "metadata": {},
   "outputs": [
    {
     "name": "stdout",
     "output_type": "stream",
     "text": [
      "[[10  4]\n",
      " [ 2  1]]\n",
      "              precision    recall  f1-score   support\n",
      "\n",
      "           0       0.83      0.71      0.77        14\n",
      "           1       0.20      0.33      0.25         3\n",
      "\n",
      "    accuracy                           0.65        17\n",
      "   macro avg       0.52      0.52      0.51        17\n",
      "weighted avg       0.72      0.65      0.68        17\n",
      "\n"
     ]
    }
   ],
   "source": [
    "print(confusion_matrix(y_test,y_pred))\n",
    "print(classification_report(y_test,y_pred))"
   ]
  },
  {
   "cell_type": "code",
   "execution_count": 39,
   "id": "7d764ffd",
   "metadata": {},
   "outputs": [
    {
     "data": {
      "text/plain": [
       "{'learning_rate': 0.1, 'n_estimators': 2000, 'random_state': 1}"
      ]
     },
     "execution_count": 39,
     "metadata": {},
     "output_type": "execute_result"
    }
   ],
   "source": [
    "from sklearn.ensemble import AdaBoostClassifier\n",
    "from sklearn.model_selection import KFold\n",
    "\n",
    "crossvalidation=KFold(n_splits=10,shuffle=True,random_state=1)\n",
    "ada=AdaBoostClassifier()\n",
    "search_grid={'n_estimators':[500,1000,2000],'learning_rate':[.001,0.01,.1],'random_state':[1]}\n",
    "search=GridSearchCV(estimator=ada,param_grid=search_grid,scoring='accuracy',n_jobs=1,cv=crossvalidation)\n",
    "search.fit(x_train,y_train)\n",
    "search.best_params_"
   ]
  },
  {
   "cell_type": "code",
   "execution_count": 40,
   "id": "943780cb",
   "metadata": {},
   "outputs": [
    {
     "name": "stdout",
     "output_type": "stream",
     "text": [
      "[[13  1]\n",
      " [ 3  0]]\n",
      "              precision    recall  f1-score   support\n",
      "\n",
      "           0       0.81      0.93      0.87        14\n",
      "           1       0.00      0.00      0.00         3\n",
      "\n",
      "    accuracy                           0.76        17\n",
      "   macro avg       0.41      0.46      0.43        17\n",
      "weighted avg       0.67      0.76      0.71        17\n",
      "\n"
     ]
    }
   ],
   "source": [
    "ada = AdaBoostClassifier(learning_rate = 0.1, n_estimators = 2000, random_state = 1)\n",
    "ada.fit(x_train,y_train)\n",
    "y_pred = ada.predict(x_test)\n",
    "print(confusion_matrix(y_test,y_pred))\n",
    "print(classification_report(y_test,y_pred))"
   ]
  },
  {
   "cell_type": "code",
   "execution_count": 41,
   "id": "4de2721c",
   "metadata": {},
   "outputs": [
    {
     "name": "stdout",
     "output_type": "stream",
     "text": [
      "0:\tlearn: 0.6904585\ttotal: 53ms\tremaining: 477ms\n",
      "1:\tlearn: 0.6876666\ttotal: 56.5ms\tremaining: 226ms\n",
      "2:\tlearn: 0.6848639\ttotal: 59.8ms\tremaining: 139ms\n",
      "3:\tlearn: 0.6820624\ttotal: 62.6ms\tremaining: 93.9ms\n",
      "4:\tlearn: 0.6799988\ttotal: 65.3ms\tremaining: 65.3ms\n",
      "5:\tlearn: 0.6775444\ttotal: 68.1ms\tremaining: 45.4ms\n",
      "6:\tlearn: 0.6749866\ttotal: 70.9ms\tremaining: 30.4ms\n",
      "7:\tlearn: 0.6723473\ttotal: 74ms\tremaining: 18.5ms\n",
      "8:\tlearn: 0.6705397\ttotal: 76.5ms\tremaining: 8.5ms\n",
      "9:\tlearn: 0.6681715\ttotal: 79.4ms\tremaining: 0us\n",
      " Results from Grid Search \n",
      "\n",
      " The best estimator across ALL searched params:\n",
      " <catboost.core.CatBoostClassifier object at 0x0000017E31540D90>\n",
      "\n",
      " The best score across ALL searched params:\n",
      " 0.89\n",
      "\n",
      " The best parameters across ALL searched params:\n",
      " {'depth': 8, 'iterations': 10, 'learning_rate': 0.01}\n"
     ]
    }
   ],
   "source": [
    "from catboost import CatBoostClassifier\n",
    "CBC = CatBoostClassifier()\n",
    "parameters = {'depth'         : [4,5,6,7,8,9, 10],\n",
    "              'learning_rate' : [0.01,0.02,0.03,0.04],\n",
    "              'iterations'    : [10, 20,30,40,50,60,70,80,90, 100]\n",
    "                 }\n",
    "Grid_CBC = GridSearchCV(estimator=CBC, param_grid = parameters, cv = 2, n_jobs=-1)\n",
    "Grid_CBC.fit(x_train, y_train)\n",
    "print(\" Results from Grid Search \" )\n",
    "print(\"\\n The best estimator across ALL searched params:\\n\",Grid_CBC.best_estimator_)\n",
    "print(\"\\n The best score across ALL searched params:\\n\",Grid_CBC.best_score_)\n",
    "print(\"\\n The best parameters across ALL searched params:\\n\",Grid_CBC.best_params_)"
   ]
  },
  {
   "cell_type": "code",
   "execution_count": 42,
   "id": "3e7e43fc",
   "metadata": {},
   "outputs": [
    {
     "name": "stdout",
     "output_type": "stream",
     "text": [
      "0:\tlearn: 0.6904585\ttotal: 1.69ms\tremaining: 15.2ms\n",
      "1:\tlearn: 0.6876666\ttotal: 3.17ms\tremaining: 12.7ms\n",
      "2:\tlearn: 0.6848639\ttotal: 4.22ms\tremaining: 9.86ms\n",
      "3:\tlearn: 0.6820624\ttotal: 5.6ms\tremaining: 8.41ms\n",
      "4:\tlearn: 0.6799988\ttotal: 6.74ms\tremaining: 6.74ms\n",
      "5:\tlearn: 0.6775444\ttotal: 7.85ms\tremaining: 5.23ms\n",
      "6:\tlearn: 0.6749866\ttotal: 8.93ms\tremaining: 3.83ms\n",
      "7:\tlearn: 0.6723473\ttotal: 9.98ms\tremaining: 2.49ms\n",
      "8:\tlearn: 0.6705397\ttotal: 11.3ms\tremaining: 1.25ms\n",
      "9:\tlearn: 0.6681715\ttotal: 13.2ms\tremaining: 0us\n",
      "[[10  4]\n",
      " [ 1  2]]\n",
      "              precision    recall  f1-score   support\n",
      "\n",
      "           0       0.91      0.71      0.80        14\n",
      "           1       0.33      0.67      0.44         3\n",
      "\n",
      "    accuracy                           0.71        17\n",
      "   macro avg       0.62      0.69      0.62        17\n",
      "weighted avg       0.81      0.71      0.74        17\n",
      "\n"
     ]
    }
   ],
   "source": [
    "cbc = CatBoostClassifier(depth = 8, iterations = 10, learning_rate = 0.01)\n",
    "cbc.fit(x_train,y_train)\n",
    "y_pred = cbc.predict(x_test)\n",
    "print(confusion_matrix(y_test,y_pred))\n",
    "print(classification_report(y_test,y_pred))"
   ]
  },
  {
   "cell_type": "code",
   "execution_count": 43,
   "id": "ffe23125",
   "metadata": {},
   "outputs": [
    {
     "name": "stdout",
     "output_type": "stream",
     "text": [
      "Best score: 0.9400000000000001, Best params: {'learning_rate': 0.01, 'max_depth': 5, 'min_samples_leaf': 2, 'min_samples_split': 5, 'n_estimators': 50, 'random_state': 42}\n"
     ]
    }
   ],
   "source": [
    "from sklearn.ensemble import GradientBoostingClassifier\n",
    "gbr = GradientBoostingClassifier(random_state=42)\n",
    "gbr_params = {\n",
    "    'learning_rate': [0.01, 0.05, 0.1],\n",
    "    'n_estimators': [50, 80, 100, 200, 300],\n",
    "    'max_depth': [3, 5, 7, 9],\n",
    "    'min_samples_split': [2, 3, 4, 5],\n",
    "    'min_samples_leaf': [1, 2, 3, 5],\n",
    "    'random_state': [42]\n",
    "}\n",
    "\n",
    "gbr_search = GridSearchCV(gbr, param_grid=gbr_params, cv=5, scoring='accuracy', n_jobs=-1)\n",
    "gbr_search.fit(x_train, y_train)\n",
    "best_mse = gbr_search.best_score_\n",
    "best_rmse = best_mse\n",
    "\n",
    "print('Best score: {}, Best params: {}'.format(best_rmse, gbr_search.best_params_))"
   ]
  },
  {
   "cell_type": "code",
   "execution_count": 44,
   "id": "764af557",
   "metadata": {},
   "outputs": [
    {
     "name": "stdout",
     "output_type": "stream",
     "text": [
      "[[12  2]\n",
      " [ 1  2]]\n",
      "              precision    recall  f1-score   support\n",
      "\n",
      "           0       0.92      0.86      0.89        14\n",
      "           1       0.50      0.67      0.57         3\n",
      "\n",
      "    accuracy                           0.82        17\n",
      "   macro avg       0.71      0.76      0.73        17\n",
      "weighted avg       0.85      0.82      0.83        17\n",
      "\n"
     ]
    }
   ],
   "source": [
    "gbr = GradientBoostingClassifier(learning_rate = 0.01, max_depth = 5, min_samples_leaf = 2, min_samples_split = 5, n_estimators = 50, random_state = 42)\n",
    "gbr.fit(x_train,y_train)\n",
    "y_pred = gbr.predict(x_test)\n",
    "print(confusion_matrix(y_test,y_pred))\n",
    "print(classification_report(y_test,y_pred))"
   ]
  },
  {
   "cell_type": "code",
   "execution_count": 45,
   "id": "24436856",
   "metadata": {},
   "outputs": [
    {
     "name": "stdout",
     "output_type": "stream",
     "text": [
      "Best score: 0.9200000000000002, Best params: {'learning_rate': 0.01, 'max_depth': 3, 'n_estimators': 1000, 'num_leaves': 25, 'random_state': 42}\n"
     ]
    }
   ],
   "source": [
    "from lightgbm import LGBMClassifier\n",
    "lgbm = LGBMClassifier(random_state=42)\n",
    "lgbm_params = {\n",
    "    'num_leaves': [25, 31, 35],\n",
    "    'learning_rate': [0.01, 0.05, 0.1, 0.5],\n",
    "    'n_estimators': [100, 300, 500, 1000],\n",
    "    'max_depth': [3, 7, 11],\n",
    "    'random_state': [42]\n",
    "}\n",
    "\n",
    "lgbm_search = GridSearchCV(lgbm, param_grid=lgbm_params, cv=5, scoring='accuracy', n_jobs=-1)\n",
    "lgbm_search.fit(x_train, y_train)\n",
    "best_mse = lgbm_search.best_score_\n",
    "best_rmse = best_mse\n",
    "\n",
    "print('Best score: {}, Best params: {}'.format(best_rmse, lgbm_search.best_params_))"
   ]
  },
  {
   "cell_type": "code",
   "execution_count": 46,
   "id": "2c4f2489",
   "metadata": {},
   "outputs": [
    {
     "name": "stdout",
     "output_type": "stream",
     "text": [
      "[[11  3]\n",
      " [ 2  1]]\n",
      "              precision    recall  f1-score   support\n",
      "\n",
      "           0       0.85      0.79      0.81        14\n",
      "           1       0.25      0.33      0.29         3\n",
      "\n",
      "    accuracy                           0.71        17\n",
      "   macro avg       0.55      0.56      0.55        17\n",
      "weighted avg       0.74      0.71      0.72        17\n",
      "\n"
     ]
    }
   ],
   "source": [
    "lgbm = LGBMClassifier(learning_rate = 0.1, max_depth = 3, n_estimators = 1000, num_leaves = 25, random_state = 42)\n",
    "lgbm.fit(x_train,y_train)\n",
    "y_pred = lgbm.predict(x_test)\n",
    "print(confusion_matrix(y_test,y_pred))\n",
    "print(classification_report(y_test,y_pred))"
   ]
  },
  {
   "cell_type": "code",
   "execution_count": 47,
   "id": "99b6c7c8",
   "metadata": {},
   "outputs": [
    {
     "data": {
      "text/plain": [
       "['D:/projects/ML/Keyphosis/scaler.h5']"
      ]
     },
     "execution_count": 47,
     "metadata": {},
     "output_type": "execute_result"
    }
   ],
   "source": [
    "import joblib\n",
    "joblib.dump(gbr,'D:/projects/ML/Keyphosis/model.h5')\n",
    "joblib.dump(scaler,'D:/projects/ML/Keyphosis/scaler.h5')"
   ]
  },
  {
   "cell_type": "code",
   "execution_count": null,
   "id": "33f0b010",
   "metadata": {},
   "outputs": [],
   "source": []
  }
 ],
 "metadata": {
  "kernelspec": {
   "display_name": "Python 3 (ipykernel)",
   "language": "python",
   "name": "python3"
  },
  "language_info": {
   "codemirror_mode": {
    "name": "ipython",
    "version": 3
   },
   "file_extension": ".py",
   "mimetype": "text/x-python",
   "name": "python",
   "nbconvert_exporter": "python",
   "pygments_lexer": "ipython3",
   "version": "3.9.7"
  }
 },
 "nbformat": 4,
 "nbformat_minor": 5
}
